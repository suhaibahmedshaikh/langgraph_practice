{
 "cells": [
  {
   "cell_type": "code",
   "execution_count": 1,
   "id": "2a8fc3f4",
   "metadata": {},
   "outputs": [],
   "source": [
    "from langgraph.graph import StateGraph, START, END\n",
    "from langchain_openai import ChatOpenAI\n",
    "from typing import TypedDict\n",
    "from dotenv import load_dotenv"
   ]
  },
  {
   "cell_type": "code",
   "execution_count": 2,
   "id": "2f218eae",
   "metadata": {},
   "outputs": [
    {
     "data": {
      "text/plain": [
       "True"
      ]
     },
     "execution_count": 2,
     "metadata": {},
     "output_type": "execute_result"
    }
   ],
   "source": [
    "load_dotenv()"
   ]
  },
  {
   "cell_type": "code",
   "execution_count": 3,
   "id": "b07c05ca",
   "metadata": {},
   "outputs": [],
   "source": [
    "# create a llm model\n",
    "model = ChatOpenAI()"
   ]
  },
  {
   "cell_type": "code",
   "execution_count": 12,
   "id": "be84ec77",
   "metadata": {},
   "outputs": [],
   "source": [
    "# create State\n",
    "class BlogState(TypedDict):\n",
    "    title: str\n",
    "    outline: str\n",
    "    content: str\n",
    "    score: int"
   ]
  },
  {
   "cell_type": "code",
   "execution_count": 5,
   "id": "920d14d2",
   "metadata": {},
   "outputs": [],
   "source": [
    "def create_outline(state: BlogState) -> BlogState:\n",
    "\n",
    "    # extract title\n",
    "    title = state['title']\n",
    "\n",
    "    # generate prompt\n",
    "    prompt = f'Generate a detailed outline for a blog on the topic - {title}'\n",
    "\n",
    "    # generate outline from llm\n",
    "    outline = model.invoke(prompt).content\n",
    "\n",
    "    # update outline of the state\n",
    "    state['outline'] = outline\n",
    "\n",
    "    # return updated state\n",
    "    return state"
   ]
  },
  {
   "cell_type": "code",
   "execution_count": 6,
   "id": "6099a6c5",
   "metadata": {},
   "outputs": [],
   "source": [
    "def create_blog(state: BlogState) -> BlogState:\n",
    "\n",
    "    # extract title and outline\n",
    "    title = state['title']\n",
    "    outline = state['outline']\n",
    "\n",
    "    # generate prompt\n",
    "    prompt = f'Write a detailed blog on the title - {title} using the following outline \\n {outline}'\n",
    "\n",
    "    # generate blog from llm\n",
    "    content = model.invoke(prompt).content\n",
    "\n",
    "    # update blog of the state\n",
    "    state['content'] = content\n",
    "\n",
    "    # return updated state\n",
    "    return state"
   ]
  },
  {
   "cell_type": "code",
   "execution_count": 19,
   "id": "445318dd",
   "metadata": {},
   "outputs": [],
   "source": [
    "def evaluate_blog(state: BlogState) -> BlogState:\n",
    "\n",
    "    # extract outline and content\n",
    "    outline = state['outline']\n",
    "    content = state['content']\n",
    "\n",
    "    # generate prompt\n",
    "    prompt = f'Based on this outline \\n {outline} rate my blog \\n {content}'\n",
    "\n",
    "    # evaluate blog using llm\n",
    "    score = model.invoke(prompt).content\n",
    "\n",
    "    # update score of the state\n",
    "    state['score'] = score\n",
    "\n",
    "    # return updated state\n",
    "    return state"
   ]
  },
  {
   "cell_type": "code",
   "execution_count": 14,
   "id": "a63e3f3f",
   "metadata": {},
   "outputs": [],
   "source": [
    "# create graph\n",
    "graph = StateGraph(BlogState)\n",
    "\n",
    "# add nodes\n",
    "graph.add_node('create_outline', create_outline)\n",
    "graph.add_node('create_blog', create_blog)\n",
    "graph.add_node('evaluate_blog', evaluate_blog)\n",
    "\n",
    "# add edges\n",
    "graph.add_edge(START, 'create_outline')\n",
    "graph.add_edge('create_outline', 'create_blog')\n",
    "graph.add_edge('create_blog', 'evaluate_blog')\n",
    "graph.add_edge('evaluate_blog', END)\n",
    "\n",
    "# compile graph\n",
    "workflow = graph.compile()"
   ]
  },
  {
   "cell_type": "code",
   "execution_count": 20,
   "id": "fdc06df1",
   "metadata": {},
   "outputs": [],
   "source": [
    "# execute graph\n",
    "\n",
    "initial_state = {'title': 'Rise of AI in India'}\n",
    "\n",
    "final_state = workflow.invoke(initial_state)"
   ]
  },
  {
   "cell_type": "code",
   "execution_count": 21,
   "id": "37c128bf",
   "metadata": {},
   "outputs": [
    {
     "name": "stdout",
     "output_type": "stream",
     "text": [
      "I. Introduction\n",
      "    A. Definition of AI\n",
      "    B. Importance of AI in today's technological landscape\n",
      "    C. Overview of the rise of AI in India\n",
      "\n",
      "II. History of AI in India\n",
      "    A. Early developments and research in AI in India\n",
      "    B. Adoption of AI technologies by Indian companies\n",
      "    C. Government initiatives to promote AI in India\n",
      "\n",
      "III. Growth of AI start-ups in India\n",
      "    A. Overview of the AI start-up ecosystem in India\n",
      "    B. Success stories of AI start-ups in India\n",
      "    C. Challenges faced by AI start-ups in India\n",
      "\n",
      "IV. AI in various industries in India\n",
      "    A. AI in healthcare\n",
      "    B. AI in finance\n",
      "    C. AI in e-commerce\n",
      "    D. AI in agriculture\n",
      "    E. AI in manufacturing\n",
      "\n",
      "V. Impact of AI on the job market in India\n",
      "    A. Potential job displacement due to automation\n",
      "    B. Opportunities for upskilling and reskilling\n",
      "    C. Government initiatives to address job displacement\n",
      "\n",
      "VI. Ethical considerations in the adoption of AI in India\n",
      "    A. Bias in AI algorithms\n",
      "    B. Data privacy concerns\n",
      "    C. Regulation of AI technologies in India\n",
      "\n",
      "VII. Future prospects of AI in India\n",
      "    A. Potential growth opportunities in the AI sector\n",
      "    B. Challenges that need to be addressed for sustainable growth\n",
      "    C. Role of AI in India's digital transformation\n",
      "\n",
      "VIII. Conclusion\n",
      "    A. Recap of key points discussed in the blog\n",
      "    B. Importance of AI in India's technological advancement\n",
      "    C. Call to action for stakeholders in the AI ecosystem\n"
     ]
    }
   ],
   "source": [
    "print(final_state['outline'])"
   ]
  },
  {
   "cell_type": "code",
   "execution_count": 22,
   "id": "e77e987c",
   "metadata": {},
   "outputs": [
    {
     "name": "stdout",
     "output_type": "stream",
     "text": [
      "Artificial Intelligence (AI) has rapidly transformed the technological landscape worldwide, and India is no exception. With advancements in machine learning, deep learning, and natural language processing, AI has become an integral part of various industries in India. In this blog, we will explore the rise of AI in India, its history, growth of AI start-ups, its impact on various industries, job market, ethical considerations, future prospects, and the importance of AI in India's technological advancement.\n",
      "\n",
      "I. Introduction\n",
      "A. Definition of AI\n",
      "AI refers to the simulation of human intelligence processes by machines, including learning, reasoning, problem-solving, perception, and language understanding. \n",
      "B. Importance of AI in today's technological landscape\n",
      "AI has become increasingly important in various industries for automation, data analysis, and decision-making support.\n",
      "C. Overview of the rise of AI in India\n",
      "India has seen a significant rise in AI adoption, with companies and the government alike leveraging AI technologies for enhanced efficiency and innovation.\n",
      "\n",
      "II. History of AI in India\n",
      "A. Early developments and research in AI in India\n",
      "India has a rich history of AI research, with institutions like IITs and startups actively contributing to advancements in AI technologies.\n",
      "B. Adoption of AI technologies by Indian companies\n",
      "Indian companies across industries are increasingly adopting AI technologies for process automation, customer service, and data analysis.\n",
      "C. Government initiatives to promote AI in India\n",
      "The Indian government has launched initiatives like the National AI Portal and AI Task Force to promote AI adoption and research in the country.\n",
      "\n",
      "III. Growth of AI start-ups in India\n",
      "A. Overview of the AI start-up ecosystem in India\n",
      "India has seen a surge in AI start-ups, with many emerging as key players in the global AI market.\n",
      "B. Success stories of AI start-ups in India\n",
      "AI start-ups like Niki.ai, SigTuple, and Locus.sh have made a mark in the AI industry with innovative solutions and products.\n",
      "C. Challenges faced by AI start-ups in India\n",
      "AI start-ups in India face challenges like talent acquisition, funding, and regulatory hurdles that require strategic planning and support.\n",
      "\n",
      "IV. AI in various industries in India\n",
      "A. AI in healthcare\n",
      "AI is revolutionizing healthcare in India with applications in diagnostics, personalized medicine, and healthcare management.\n",
      "B. AI in finance\n",
      "AI is transforming the finance sector in India with applications in fraud detection, risk management, and customer service.\n",
      "C. AI in e-commerce\n",
      "E-commerce companies in India are using AI for personalized recommendations, demand forecasting, and inventory management.\n",
      "D. AI in agriculture\n",
      "AI technologies are being utilized in agriculture in India for crop yield prediction, pest control, and soil health monitoring.\n",
      "E. AI in manufacturing\n",
      "AI is optimizing manufacturing processes in India with applications in predictive maintenance, quality control, and supply chain management.\n",
      "\n",
      "V. Impact of AI on the job market in India\n",
      "A. Potential job displacement due to automation\n",
      "AI adoption in India has the potential to disrupt traditional job roles, leading to job displacement in certain industries.\n",
      "B. Opportunities for upskilling and reskilling\n",
      "To address job displacement, there is a need for upskilling and reskilling programs to equip the workforce with AI-related skills.\n",
      "C. Government initiatives to address job displacement\n",
      "The Indian government has initiated programs like the National Policy on Software Products to promote skill development and job creation in the AI sector.\n",
      "\n",
      "VI. Ethical considerations in the adoption of AI in India\n",
      "A. Bias in AI algorithms\n",
      "There are concerns about bias in AI algorithms in India, requiring transparency and fairness in AI models and decision-making processes.\n",
      "B. Data privacy concerns\n",
      "Data privacy and security are crucial considerations in the adoption of AI technologies in India, necessitating robust data protection measures.\n",
      "C. Regulation of AI technologies in India\n",
      "There is a need for regulations and ethical guidelines to govern the use of AI in India, ensuring responsible AI development and deployment.\n",
      "\n",
      "VII. Future prospects of AI in India\n",
      "A. Potential growth opportunities in the AI sector\n",
      "India has immense growth potential in the AI sector, with opportunities in research, development, and applications across industries.\n",
      "B. Challenges that need to be addressed for sustainable growth\n",
      "Challenges like data privacy, talent acquisition, and regulatory frameworks need to be addressed for sustainable growth of AI in India.\n",
      "C. Role of AI in India's digital transformation\n",
      "AI will play a pivotal role in India's digital transformation, driving innovation, efficiency, and competitiveness across sectors.\n",
      "\n",
      "VIII. Conclusion\n",
      "A. Recap of key points discussed in the blog\n",
      "The rise of AI in India has transformed industries, job market, and research landscape, presenting both opportunities and challenges.\n",
      "B. Importance of AI in India's technological advancement\n",
      "AI is crucial for India's technological advancement, fostering innovation, efficiency, and competitiveness in the global market.\n",
      "C. Call to action for stakeholders in the AI ecosystem\n",
      "Stakeholders in the AI ecosystem in India need to collaborate, innovate, and address challenges to realize the full potential of AI in the country.\n",
      "\n",
      "In conclusion, the rise of AI in India signifies a transformative shift in the technological landscape, offering immense growth opportunities and socio-economic benefits. With strategic planning, collaboration, and innovation, India can harness the power of AI for sustainable development and global competitiveness. Stakeholders, including government, industry, academia, and society, need to work together to leverage AI for inclusive growth and a thriving AI ecosystem in India.\n"
     ]
    }
   ],
   "source": [
    "print(final_state['content'])"
   ]
  },
  {
   "cell_type": "code",
   "execution_count": 23,
   "id": "c4165568",
   "metadata": {},
   "outputs": [
    {
     "name": "stdout",
     "output_type": "stream",
     "text": [
      "content=\"Overall, your blog provides a comprehensive overview of the rise of AI in India, covering its history, growth of start-ups, impact on various industries, ethical considerations, future prospects, and the importance of AI in India's technological advancement. The structure of the blog is well-organized, making it easy to follow and understand the key points discussed. The inclusion of real-world examples and success stories of AI start-ups in India adds depth and credibility to the content.\\n\\nOne suggestion for improvement could be to provide more specific data and statistics to support the points made throughout the blog. This would further enhance the credibility of the information presented and provide more insights into the current state of AI adoption in India. Additionally, including a section on the current challenges faced by the AI ecosystem in India and potential solutions could add a more practical and actionable dimension to the blog.\\n\\nOverall, your blog effectively conveys the significance of AI in India and the need for collaboration and innovation to leverage its full potential for sustainable growth and development. Great job!\" additional_kwargs={'refusal': None} response_metadata={'token_usage': {'completion_tokens': 203, 'prompt_tokens': 1446, 'total_tokens': 1649, 'completion_tokens_details': {'accepted_prediction_tokens': 0, 'audio_tokens': 0, 'reasoning_tokens': 0, 'rejected_prediction_tokens': 0}, 'prompt_tokens_details': {'audio_tokens': 0, 'cached_tokens': 0}}, 'model_name': 'gpt-3.5-turbo-0125', 'system_fingerprint': None, 'id': 'chatcmpl-BtXNnN1PCSuHkjvbUiuQXXZrYkRdR', 'service_tier': 'default', 'finish_reason': 'stop', 'logprobs': None} id='run--6d3e7320-4892-453c-a079-aa7c87cd5a5c-0' usage_metadata={'input_tokens': 1446, 'output_tokens': 203, 'total_tokens': 1649, 'input_token_details': {'audio': 0, 'cache_read': 0}, 'output_token_details': {'audio': 0, 'reasoning': 0}}\n"
     ]
    }
   ],
   "source": [
    "print(final_state['score'])"
   ]
  }
 ],
 "metadata": {
  "kernelspec": {
   "display_name": "myenv",
   "language": "python",
   "name": "python3"
  },
  "language_info": {
   "codemirror_mode": {
    "name": "ipython",
    "version": 3
   },
   "file_extension": ".py",
   "mimetype": "text/x-python",
   "name": "python",
   "nbconvert_exporter": "python",
   "pygments_lexer": "ipython3",
   "version": "3.12.1"
  }
 },
 "nbformat": 4,
 "nbformat_minor": 5
}
