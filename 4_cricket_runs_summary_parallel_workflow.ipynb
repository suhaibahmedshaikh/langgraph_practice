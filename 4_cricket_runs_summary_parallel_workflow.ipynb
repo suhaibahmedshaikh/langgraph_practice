{
 "cells": [
  {
   "cell_type": "code",
   "execution_count": 11,
   "id": "e3392160",
   "metadata": {},
   "outputs": [],
   "source": [
    "from langgraph.graph import StateGraph, START, END\n",
    "from typing import TypedDict"
   ]
  },
  {
   "cell_type": "code",
   "execution_count": 12,
   "id": "2a143e37",
   "metadata": {},
   "outputs": [],
   "source": [
    "# create state\n",
    "class RunsAnalysis(TypedDict):\n",
    "    runs: int\n",
    "    balls: int\n",
    "    fours: int\n",
    "    sixes: int\n",
    "\n",
    "    sr: float\n",
    "    bpb: float\n",
    "    boundary_percentage: float\n",
    "\n",
    "    summary: str"
   ]
  },
  {
   "cell_type": "code",
   "execution_count": 17,
   "id": "284a1761",
   "metadata": {},
   "outputs": [],
   "source": [
    "def calculate_sr(state: RunsAnalysis) -> RunsAnalysis:\n",
    "    # extract runs and balls\n",
    "    runs = state['runs']\n",
    "    balls = state['balls']\n",
    "\n",
    "    # calculate strike rate\n",
    "    sr = (runs / balls)*100\n",
    "\n",
    "    # update strike rate and returning partial state\n",
    "    return {'sr': sr}\n",
    "    "
   ]
  },
  {
   "cell_type": "code",
   "execution_count": 18,
   "id": "1eb37cf7",
   "metadata": {},
   "outputs": [],
   "source": [
    "def calculate_bpb(state: RunsAnalysis) -> RunsAnalysis:\n",
    "    # extract balls, fours, sixes\n",
    "    balls = state['balls']\n",
    "    boundaries = state['fours'] + state['sixes']\n",
    "\n",
    "    # calculate balls per boundary\n",
    "    bpb = balls / boundaries\n",
    "\n",
    "    # update bpb of state and return partial state\n",
    "    return {'bpb': bpb}"
   ]
  },
  {
   "cell_type": "code",
   "execution_count": 19,
   "id": "aed67f0a",
   "metadata": {},
   "outputs": [],
   "source": [
    "def calculate_boundary_percentage(state: RunsAnalysis) -> RunsAnalysis:\n",
    "    # extract runs and boundaries\n",
    "    runs = state['runs']\n",
    "    boundaries = (state['fours'] * 4) + (state['sixes'] * 6)\n",
    "\n",
    "    # calculate boundary percentage\n",
    "    boundary_percentage = (boundaries / runs) * 100\n",
    "\n",
    "    # update boundary percentage of state and returning partial state\n",
    "    return {'boundary_percentage': boundary_percentage}"
   ]
  },
  {
   "cell_type": "code",
   "execution_count": 20,
   "id": "b2801986",
   "metadata": {},
   "outputs": [],
   "source": [
    "def calculate_summary(state: RunsAnalysis) -> RunsAnalysis:\n",
    "    # create summary\n",
    "    summary = f\"\"\"\n",
    "    Runs scored - {state['runs']} \\n\n",
    "    Strike rate - {state['sr']} \\n\n",
    "    Ball per boundary - {state['bpb']} \\n\n",
    "    Boundary percentage - {state['boundary_percentage']}\n",
    "\"\"\"\n",
    "    # update the state and returning the partial state\n",
    "    return {'summary': summary}"
   ]
  },
  {
   "cell_type": "code",
   "execution_count": 22,
   "id": "d8b95d24",
   "metadata": {},
   "outputs": [],
   "source": [
    "# create graph\n",
    "graph = StateGraph(RunsAnalysis)\n",
    "\n",
    "# add nodes\n",
    "graph.add_node('calculate_sr', calculate_sr)\n",
    "graph.add_node('calculate_bpb', calculate_bpb)\n",
    "graph.add_node('calculate_boundary_percentage', calculate_boundary_percentage)\n",
    "graph.add_node('calculate_summary', calculate_summary)\n",
    "\n",
    "# add edges\n",
    "graph.add_edge(START, 'calculate_sr')\n",
    "graph.add_edge(START, 'calculate_bpb')\n",
    "graph.add_edge(START, 'calculate_boundary_percentage')\n",
    "\n",
    "graph.add_edge('calculate_sr', 'calculate_summary')\n",
    "graph.add_edge('calculate_bpb', 'calculate_summary')\n",
    "graph.add_edge('calculate_boundary_percentage', 'calculate_summary')\n",
    "\n",
    "graph.add_edge('calculate_summary', END)\n",
    "\n",
    "\n",
    "# compile graph\n",
    "workflow = graph.compile()"
   ]
  },
  {
   "cell_type": "code",
   "execution_count": 25,
   "id": "07a50ee2",
   "metadata": {},
   "outputs": [
    {
     "name": "stdout",
     "output_type": "stream",
     "text": [
      "\n",
      "    Runs scored - 100 \n",
      "\n",
      "    Strike rate - 200.0 \n",
      "\n",
      "    Ball per boundary - 5.0 \n",
      "\n",
      "    Boundary percentage - 48.0\n",
      "\n"
     ]
    }
   ],
   "source": [
    "initial_state = {'runs': 100, 'balls': 50, 'fours': 6, 'sixes': 4}\n",
    "final_state = workflow.invoke(initial_state)\n",
    "\n",
    "print(final_state['summary'])"
   ]
  }
 ],
 "metadata": {
  "kernelspec": {
   "display_name": "myenv",
   "language": "python",
   "name": "python3"
  },
  "language_info": {
   "codemirror_mode": {
    "name": "ipython",
    "version": 3
   },
   "file_extension": ".py",
   "mimetype": "text/x-python",
   "name": "python",
   "nbconvert_exporter": "python",
   "pygments_lexer": "ipython3",
   "version": "3.12.1"
  }
 },
 "nbformat": 4,
 "nbformat_minor": 5
}
