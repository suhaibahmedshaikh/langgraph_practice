{
 "cells": [
  {
   "cell_type": "code",
   "execution_count": 6,
   "id": "6ca4c9d7",
   "metadata": {},
   "outputs": [],
   "source": [
    "from langgraph.graph import StateGraph, START, END\n",
    "from langchain_openai import ChatOpenAI\n",
    "from dotenv import load_dotenv\n",
    "from typing import TypedDict, Annotated\n",
    "from pydantic import BaseModel, Field\n",
    "import operator"
   ]
  },
  {
   "cell_type": "code",
   "execution_count": 2,
   "id": "0f29957f",
   "metadata": {},
   "outputs": [
    {
     "data": {
      "text/plain": [
       "True"
      ]
     },
     "execution_count": 2,
     "metadata": {},
     "output_type": "execute_result"
    }
   ],
   "source": [
    "load_dotenv()"
   ]
  },
  {
   "cell_type": "code",
   "execution_count": 3,
   "id": "07829d82",
   "metadata": {},
   "outputs": [],
   "source": [
    "model = ChatOpenAI(model='gpt-4o-mini')"
   ]
  },
  {
   "cell_type": "code",
   "execution_count": 4,
   "id": "c27323d7",
   "metadata": {},
   "outputs": [],
   "source": [
    "class EvaluationSchema(BaseModel):\n",
    "    feedback: str = Field(description='Detailed feedback for the essay')\n",
    "    score: int = Field(description='Score out of 10', ge=0, le=10) "
   ]
  },
  {
   "cell_type": "code",
   "execution_count": 5,
   "id": "ece82145",
   "metadata": {},
   "outputs": [],
   "source": [
    "structured_model = model.with_structured_output(EvaluationSchema)"
   ]
  },
  {
   "cell_type": "code",
   "execution_count": 27,
   "id": "bf9cb957",
   "metadata": {},
   "outputs": [],
   "source": [
    "class EssayState(TypedDict):\n",
    "    essay: str\n",
    "    language_feedback: str\n",
    "    analysis_feedback: str\n",
    "    clarity_feedback: str\n",
    "    overall_feedback: str\n",
    "    individual_score: Annotated[list[int], operator.add]\n",
    "    avg_score: float"
   ]
  },
  {
   "cell_type": "code",
   "execution_count": 24,
   "id": "9d6d401b",
   "metadata": {},
   "outputs": [],
   "source": [
    "def evaluate_language(state: EssayState):\n",
    "    prompt = f'Evaluate the language quality of the following essay and provide a feedback and assign a score out of 10 \\n {state[\"essay\"]}'\n",
    "    output = structured_model.invoke(prompt)\n",
    "\n",
    "    return {'language_feedback': output.feedback, 'individual_score': [output.score]}"
   ]
  },
  {
   "cell_type": "code",
   "execution_count": 25,
   "id": "6f113088",
   "metadata": {},
   "outputs": [],
   "source": [
    "def evaluate_analysis(state: EssayState):\n",
    "    prompt = f'Evaluate the depth of analysis of the following essay and provide a feedback and assign a score out of 10 \\n {state[\"essay\"]}'\n",
    "    output = structured_model.invoke(prompt)\n",
    "\n",
    "    return {'analysis_feedback': output.feedback, 'individual_score': [output.score]}"
   ]
  },
  {
   "cell_type": "code",
   "execution_count": 26,
   "id": "9f31e012",
   "metadata": {},
   "outputs": [],
   "source": [
    "def evaluate_thought(state: EssayState):\n",
    "    prompt = f'Evaluate the clarity of thought of the following essay and provide a feedback and assign a score out of 10 \\n {state[\"essay\"]}'\n",
    "    output = structured_model.invoke(prompt)\n",
    "\n",
    "    return {'clarity_feedback': output.feedback, 'individual_score': [output.score]}"
   ]
  },
  {
   "cell_type": "code",
   "execution_count": 28,
   "id": "4f9488de",
   "metadata": {},
   "outputs": [],
   "source": [
    "def final_evaluation(state: EssayState):\n",
    "\n",
    "    # summary feedback\n",
    "    prompt = f'Based on the following feedbacks create a summarized feedback \\n language feedback - {state[\"language_feedback\"]} \\n depth of analysis feedback - {state[\"analysis_feedback\"]} \\n clarity of thought feedback - {state[\"clarity_feedback\"]}'\n",
    "    overall_feedback = model.invoke(prompt).content\n",
    "\n",
    "    avg_score = sum(state[\"individual_score\"]) / len(state['individual_score'])\n",
    "\n",
    "    return {'overall_feedback': overall_feedback, 'avg_score': avg_score}"
   ]
  },
  {
   "cell_type": "code",
   "execution_count": 29,
   "id": "a5be7721",
   "metadata": {},
   "outputs": [],
   "source": [
    "graph = StateGraph(EssayState)\n",
    "\n",
    "# add nodes\n",
    "graph.add_node('evaluate_language', evaluate_language)\n",
    "graph.add_node('evaluate_analysis', evaluate_analysis)\n",
    "graph.add_node('evaluate_thought', evaluate_thought)\n",
    "graph.add_node('final_evaluation', final_evaluation)\n",
    "\n",
    "# add edges\n",
    "graph.add_edge(START, 'evaluate_language')\n",
    "graph.add_edge(START, 'evaluate_analysis')\n",
    "graph.add_edge(START, 'evaluate_thought')\n",
    "\n",
    "graph.add_edge('evaluate_language', 'final_evaluation')\n",
    "graph.add_edge('evaluate_analysis', 'final_evaluation')\n",
    "graph.add_edge('evaluate_thought', 'final_evaluation')\n",
    "\n",
    "graph.add_edge('final_evaluation', END)\n",
    "\n",
    "# compile graph\n",
    "workflow = graph.compile()"
   ]
  },
  {
   "cell_type": "code",
   "execution_count": 30,
   "id": "2907fafe",
   "metadata": {},
   "outputs": [],
   "source": [
    "essay_init = \"\"\"India and AI Time\n",
    "\n",
    "Now world change very fast because new tech call Artificial Intel… something (AI). India also want become big in this AI thing. If work hard, India can go top. But if no careful, India go back.\n",
    "\n",
    "India have many good. We have smart student, many engine-ear, and good IT peoples. Big company like TCS, Infosys, Wipro already use AI. Government also do program “AI for All”. It want AI in farm, doctor place, school and transport.\n",
    "\n",
    "In farm, AI help farmer know when to put seed, when rain come, how stop bug. In health, AI help doctor see sick early. In school, AI help student learn good. Government office use AI to find bad people and work fast.\n",
    "\n",
    "But problem come also. First is many villager no have phone or internet. So AI not help them. Second, many people lose job because AI and machine do work. Poor people get more bad.\n",
    "\n",
    "One more big problem is privacy. AI need big big data. Who take care? India still make data rule. If no strong rule, AI do bad.\n",
    "\n",
    "India must all people together – govern, school, company and normal people. We teach AI and make sure AI not bad. Also talk to other country and learn from them.\n",
    "\n",
    "If India use AI good way, we become strong, help poor and make better life. But if only rich use AI, and poor no get, then big bad thing happen.\n",
    "\n",
    "So, in short, AI time in India have many hope and many danger. We must go right road. AI must help all people, not only some. Then India grow big and world say \"good job India\".\"\"\""
   ]
  },
  {
   "cell_type": "code",
   "execution_count": null,
   "id": "75de38f7",
   "metadata": {},
   "outputs": [
    {
     "name": "stdout",
     "output_type": "stream",
     "text": [
      "{'essay': 'India and AI Time\\n\\nNow world change very fast because new tech call Artificial Intel… something (AI). India also want become big in this AI thing. If work hard, India can go top. But if no careful, India go back.\\n\\nIndia have many good. We have smart student, many engine-ear, and good IT peoples. Big company like TCS, Infosys, Wipro already use AI. Government also do program “AI for All”. It want AI in farm, doctor place, school and transport.\\n\\nIn farm, AI help farmer know when to put seed, when rain come, how stop bug. In health, AI help doctor see sick early. In school, AI help student learn good. Government office use AI to find bad people and work fast.\\n\\nBut problem come also. First is many villager no have phone or internet. So AI not help them. Second, many people lose job because AI and machine do work. Poor people get more bad.\\n\\nOne more big problem is privacy. AI need big big data. Who take care? India still make data rule. If no strong rule, AI do bad.\\n\\nIndia must all people together – govern, school, company and normal people. We teach AI and make sure AI not bad. Also talk to other country and learn from them.\\n\\nIf India use AI good way, we become strong, help poor and make better life. But if only rich use AI, and poor no get, then big bad thing happen.\\n\\nSo, in short, AI time in India have many hope and many danger. We must go right road. AI must help all people, not only some. Then India grow big and world say \"good job India\".', 'language_feedback': 'The essay discusses the potential impact of artificial intelligence (AI) on India, highlighting both opportunities and challenges. However, the overall language quality is weak. This is due to issues with grammar, sentence structure, and vocabulary. For instance, phrases like \"new tech call Artificial Intel... something\" and \"if no careful, India go back\" show incorrect grammatical forms and lack clarity. Additionally, the essay lacks logical flow and transitions between ideas, making it hard to follow at times. The use of informal language such as \"many good\" and repetitive sentence beginnings diminishes the essay\\'s credibility. Although the content addresses relevant points and conveys a genuine perspective, it needs significant revisions in language and structure to improve clarity and coherence. Overall, it serves as a foundational attempt but requires substantial editing and refinement.', 'analysis_feedback': \"The essay presents some interesting ideas about AI in India and raises valid points regarding its potential benefits and challenges. However, the analysis lacks depth and adequate structure. The writing is simplistic and contains numerous grammatical errors, which hinder clarity. The concepts introduced, such as the applications of AI in agriculture, healthcare, and education, are important but are not elaborated upon sufficiently. Furthermore, the essay could benefit from more detailed examples and a clearer organization of thoughts. The issues mentioned, like privacy concerns and job displacement, are significant but are not examined in detail. Overall, while the essay conveys an optimistic view of AI's potential in India, it needs more thorough exploration and better articulation to make it more impactful.\", 'clarity_feedback': \"The essay presents an interesting perspective on the implications of Artificial Intelligence (AI) in India, touching upon both opportunities and challenges. However, the clarity of thought is hindered by several factors. First, there are multiple grammatical errors and incomplete thoughts that disrupt the flow and coherence of the ideas. For instance, phrases like 'new tech call Artificial Intel… something (AI)' and 'India also want become big in this AI thing' lack proper structure and clarity.\\n\\nAdditionally, while the essay outlines the potential benefits of AI in various sectors such as agriculture, health, and education, it fails to elaborate on these points sufficiently. The mention of challenges like lack of access to technology and job losses due to AI is also not explored in depth. Furthermore, the argument about privacy and data regulation is crucial but too briefly addressed, leaving it underdeveloped.\\n\\nThe conclusion effectively summarizes the main ideas but could benefit from a stronger integration of the various points made throughout the essay.\\n\\nOverall, the essay shows potential in addressing relevant topics regarding AI in India but suffers from issues with grammar, coherence, and depth of analysis. Therefore, I would score this essay a 4 out of 10, mainly due to clarity issues and lack of comprehensive discussion on the subjects raised.\", 'overall_feedback': '**Summarized Feedback:**\\n\\nThe essay on the impact of artificial intelligence (AI) in India presents relevant opportunities and challenges but suffers from significant language and structural issues. The overall language quality is weak, characterized by grammatical errors, awkward sentence structures, and informal expressions, such as \"new tech call Artificial Intel\" and \"many good.\" This hampers clarity and diminishes the essay\\'s credibility.\\n\\nWhile the content raises valid points regarding AI\\'s applications in sectors like agriculture, healthcare, and education, the analysis lacks depth and organization. Important concepts, such as privacy concerns and job displacement, are mentioned but not thoroughly explored, leading to incomplete arguments and a lack of comprehensive discussion.\\n\\nThe essay demonstrates potential in addressing pertinent topics but requires substantial revisions to improve coherence, clarity, and depth of analysis. Overall, it serves as a foundational effort, but significant editing and refinement are necessary for it to be impactful. A score of 4 out of 10 reflects these clarity issues and the need for a more thorough exploration of the discussed subjects.', 'individual_score': [4, 3, 4], 'avg_score': 3.6666666666666665}\n"
     ]
    }
   ],
   "source": [
    "intial_state = {'essay': essay_init}\n",
    "\n",
    "final_state = workflow.invoke(intial_state)\n",
    "\n",
    "print(final_state)"
   ]
  },
  {
   "cell_type": "code",
   "execution_count": 32,
   "id": "99cbd1c2",
   "metadata": {},
   "outputs": [
    {
     "name": "stdout",
     "output_type": "stream",
     "text": [
      "[4, 3, 4]\n"
     ]
    }
   ],
   "source": [
    "print(final_state['individual_score'])"
   ]
  },
  {
   "cell_type": "code",
   "execution_count": 33,
   "id": "3bcc920e",
   "metadata": {},
   "outputs": [
    {
     "name": "stdout",
     "output_type": "stream",
     "text": [
      "The essay discusses the potential impact of artificial intelligence (AI) on India, highlighting both opportunities and challenges. However, the overall language quality is weak. This is due to issues with grammar, sentence structure, and vocabulary. For instance, phrases like \"new tech call Artificial Intel... something\" and \"if no careful, India go back\" show incorrect grammatical forms and lack clarity. Additionally, the essay lacks logical flow and transitions between ideas, making it hard to follow at times. The use of informal language such as \"many good\" and repetitive sentence beginnings diminishes the essay's credibility. Although the content addresses relevant points and conveys a genuine perspective, it needs significant revisions in language and structure to improve clarity and coherence. Overall, it serves as a foundational attempt but requires substantial editing and refinement.\n"
     ]
    }
   ],
   "source": [
    "print(final_state['language_feedback'])"
   ]
  }
 ],
 "metadata": {
  "kernelspec": {
   "display_name": "myenv",
   "language": "python",
   "name": "python3"
  },
  "language_info": {
   "codemirror_mode": {
    "name": "ipython",
    "version": 3
   },
   "file_extension": ".py",
   "mimetype": "text/x-python",
   "name": "python",
   "nbconvert_exporter": "python",
   "pygments_lexer": "ipython3",
   "version": "3.12.1"
  }
 },
 "nbformat": 4,
 "nbformat_minor": 5
}
