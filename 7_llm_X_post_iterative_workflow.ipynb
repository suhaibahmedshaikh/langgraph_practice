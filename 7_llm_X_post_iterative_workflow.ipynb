{
 "cells": [
  {
   "cell_type": "code",
   "execution_count": 77,
   "id": "972248ca",
   "metadata": {},
   "outputs": [],
   "source": [
    "from langgraph.graph import StateGraph, START, END\n",
    "from langchain_openai import ChatOpenAI\n",
    "from langchain_core.messages import SystemMessage, HumanMessage\n",
    "from typing import TypedDict, Literal, Annotated\n",
    "from pydantic import BaseModel, Field\n",
    "from dotenv import load_dotenv\n",
    "import operator"
   ]
  },
  {
   "cell_type": "code",
   "execution_count": 78,
   "id": "90e6a00d",
   "metadata": {},
   "outputs": [
    {
     "data": {
      "text/plain": [
       "True"
      ]
     },
     "execution_count": 78,
     "metadata": {},
     "output_type": "execute_result"
    }
   ],
   "source": [
    "load_dotenv()"
   ]
  },
  {
   "cell_type": "code",
   "execution_count": 79,
   "id": "45dd4599",
   "metadata": {},
   "outputs": [],
   "source": [
    "generator_llm = ChatOpenAI(model='gpt-4o')\n",
    "evaluator_llm = ChatOpenAI(model='gpt-4o-mini')\n",
    "optimizer_llm = ChatOpenAI(model='gpt-4o')"
   ]
  },
  {
   "cell_type": "code",
   "execution_count": 80,
   "id": "a9b768a5",
   "metadata": {},
   "outputs": [],
   "source": [
    "class TweetEvaluation(BaseModel):\n",
    "    evaluation: Literal['approved', 'needs_improvement'] = Field(..., description=\"Final evaluation result.\")\n",
    "    feedback: str = Field(..., description=\"feedback for the tweet.\")"
   ]
  },
  {
   "cell_type": "code",
   "execution_count": 81,
   "id": "bfedb980",
   "metadata": {},
   "outputs": [],
   "source": [
    "structured_evaluator_llm = evaluator_llm.with_structured_output(TweetEvaluation)"
   ]
  },
  {
   "cell_type": "code",
   "execution_count": 82,
   "id": "d5f7668d",
   "metadata": {},
   "outputs": [],
   "source": [
    "# create a state\n",
    "class TweetSchema(TypedDict):\n",
    "    topic: str\n",
    "    tweet: str\n",
    "    evaluation: Literal['approved', 'needs_improvement']\n",
    "    feedback: str\n",
    "    iteration: int\n",
    "    max_iteration: int\n",
    "\n",
    "    tweet_history: Annotated[list[str], operator.add]\n",
    "    feedback_history: Annotated[list[str], operator.add]\n"
   ]
  },
  {
   "cell_type": "code",
   "execution_count": 83,
   "id": "47ed82fe",
   "metadata": {},
   "outputs": [],
   "source": [
    "def generate_tweet(state: TweetSchema):\n",
    "    # prompt\n",
    "    messages = [SystemMessage(content=\"You are a funny and clever Twitter/X influencer.\"), HumanMessage(content=f\"\"\"\n",
    "Write a short, original, and hilarious tweet on the topic: \"{state['topic']}\".\n",
    "\n",
    "Rules:\n",
    "- Do NOT use question-answer format.\n",
    "- Max 280 characters.\n",
    "- Use observational humor, irony, sarcasm, or cultural references.\n",
    "- Think in meme logic, punchlines, or relatable takes.\n",
    "- Use simple, day to day english\n",
    "\"\"\")]\n",
    "    \n",
    "    # generate tweet by llm\n",
    "    response = generator_llm.invoke(messages).content\n",
    "\n",
    "    # return response\n",
    "    return {'tweet': response, 'tweet_history': [response]}"
   ]
  },
  {
   "cell_type": "code",
   "execution_count": 84,
   "id": "f99cc14c",
   "metadata": {},
   "outputs": [],
   "source": [
    "def evaluate_tweet(state: TweetSchema):\n",
    "    # prompt\n",
    "    messages = [SystemMessage(content=\"You are a ruthless, no-laugh-given Twitter critic. You evaluate tweets based on humor, originality, virality, and tweet format.\"), HumanMessage(content=f\"\"\"\n",
    "Evaluate the following tweet:\n",
    "\n",
    "Tweet: \"{state['tweet']}\"\n",
    "\n",
    "Use the criteria below to evaluate the tweet:\n",
    "\n",
    "1. Originality – Is this fresh, or have you seen it a hundred times before?  \n",
    "2. Humor – Did it genuinely make you smile, laugh, or chuckle?  \n",
    "3. Punchiness – Is it short, sharp, and scroll-stopping?  \n",
    "4. Virality Potential – Would people retweet or share it?  \n",
    "5. Format – Is it a well-formed tweet (not a setup-punchline joke, not a Q&A joke, and under 280 characters)?\n",
    "\n",
    "Auto-reject if:\n",
    "- It's written in question-answer format (e.g., \"Why did...\" or \"What happens when...\")\n",
    "- It exceeds 280 characters\n",
    "- It reads like a traditional setup-punchline joke\n",
    "- Dont end with generic, throwaway, or deflating lines that weaken the humor (e.g., “Masterpieces of the auntie-uncle universe” or vague summaries)\n",
    "\n",
    "### Respond ONLY in structured format:\n",
    "- evaluation: \"approved\" or \"needs_improvement\"  \n",
    "- feedback: One paragraph explaining the strengths and weaknesses \n",
    "\"\"\")]\n",
    "    # evaluate tweet by llm\n",
    "    response = structured_evaluator_llm.invoke(messages)\n",
    "\n",
    "    # return response\n",
    "    return {'evaluation': response.evaluation, 'feedback': response.feedback, 'feedback_history': [response.feedback]}\n"
   ]
  },
  {
   "cell_type": "code",
   "execution_count": 85,
   "id": "eb820b0f",
   "metadata": {},
   "outputs": [],
   "source": [
    "def optimize_tweet(state: TweetSchema):\n",
    "    # prompt\n",
    "    messages = [SystemMessage(content=\"You punch up tweets for virality and humor based on given feedback.\"), HumanMessage(content=f\"\"\"\n",
    "Improve the tweet based on this feedback:\n",
    "\"{state['feedback']}\"\n",
    "\n",
    "Topic: \"{state['topic']}\"\n",
    "Original Tweet:\n",
    "{state['tweet']}\n",
    "\n",
    "Re-write it as a short, viral-worthy tweet. Avoid Q&A style and stay under 280 characters.\n",
    "\"\"\")]\n",
    "    # optimize tweet by llm\n",
    "    response = optimizer_llm.invoke(messages).content\n",
    "    iteration = state['iteration'] + 1\n",
    "\n",
    "    # return response\n",
    "    return {'tweet': response, 'iteration': iteration ,'tweet_history': [response]}"
   ]
  },
  {
   "cell_type": "code",
   "execution_count": 86,
   "id": "a697165d",
   "metadata": {},
   "outputs": [],
   "source": [
    "def check_evaluation(state: TweetSchema):\n",
    "\n",
    "    if state['evaluation'] == 'approved' or state['iteration'] >= state['max_iteration']:\n",
    "        return 'approved'\n",
    "    else:\n",
    "        return 'needs_improvement'"
   ]
  },
  {
   "cell_type": "code",
   "execution_count": 87,
   "id": "eb6fe52a",
   "metadata": {},
   "outputs": [],
   "source": [
    "# create graph\n",
    "graph = StateGraph(TweetSchema)\n",
    "\n",
    "# add nodes\n",
    "graph.add_node('generate_tweet', generate_tweet)\n",
    "graph.add_node('evaluate_tweet', evaluate_tweet)\n",
    "graph.add_node('optimize_tweet', optimize_tweet)\n",
    "\n",
    "# add edges\n",
    "graph.add_edge(START, 'generate_tweet')\n",
    "graph.add_edge('generate_tweet', 'evaluate_tweet')\n",
    "\n",
    "graph.add_conditional_edges('evaluate_tweet', check_evaluation, {'approved': END, 'needs_improvement': 'optimize_tweet'})\n",
    "\n",
    "graph.add_edge('optimize_tweet', 'evaluate_tweet')\n",
    "\n",
    "\n",
    "# compile graph\n",
    "workflow = graph.compile()"
   ]
  },
  {
   "cell_type": "code",
   "execution_count": 88,
   "id": "2c71fb10",
   "metadata": {},
   "outputs": [
    {
     "data": {
      "image/png": "[encoded data removed]",
      "text/plain": [
       "<langgraph.graph.state.CompiledStateGraph object at 0x00000292AD24D040>"
      ]
     },
     "execution_count": 88,
     "metadata": {},
     "output_type": "execute_result"
    }
   ],
   "source": [
    "workflow"
   ]
  },
  {
   "cell_type": "code",
   "execution_count": 89,
   "id": "6d800bae",
   "metadata": {},
   "outputs": [],
   "source": [
    "initial_state = {\n",
    "    'topic': \"Indian roads\",\n",
    "    'iteration': 1,\n",
    "    'max_iteration': 5\n",
    "}\n",
    "\n",
    "result = workflow.invoke(initial_state)"
   ]
  },
  {
   "cell_type": "code",
   "execution_count": 90,
   "id": "a92229e1",
   "metadata": {},
   "outputs": [
    {
     "data": {
      "text/plain": [
       "{'topic': 'Indian roads',\n",
       " 'tweet': 'Driving on Indian roads is like participating in a surprise reality show where the prize is your intact car and sanity. Bonus challenge: Finding that one pothole-free minute to win an episode of \"Nothing Rattled Today\"! #RoadTripAdventures #LivingOnTheEdge',\n",
       " 'evaluation': 'approved',\n",
       " 'feedback': 'This tweet demonstrates originality with its unique comparison of Indian road conditions to a reality show, an angle not commonly explored. The humor is present and relatable to anyone familiar with the chaos of Indian driving, likely eliciting a smile or chuckle. The punchiness is decent, though slightly long, it maintains interest without losing its essence. Its virality potential is high due to its shareable nature and relatable content, paired with the clever use of hashtags. Overall, it adheres to the tweet format guidelines effectively.',\n",
       " 'iteration': 1,\n",
       " 'max_iteration': 5,\n",
       " 'tweet_history': ['Driving on Indian roads is like participating in a surprise reality show where the prize is your intact car and sanity. Bonus challenge: Finding that one pothole-free minute to win an episode of \"Nothing Rattled Today\"! #RoadTripAdventures #LivingOnTheEdge'],\n",
       " 'feedback_history': ['This tweet demonstrates originality with its unique comparison of Indian road conditions to a reality show, an angle not commonly explored. The humor is present and relatable to anyone familiar with the chaos of Indian driving, likely eliciting a smile or chuckle. The punchiness is decent, though slightly long, it maintains interest without losing its essence. Its virality potential is high due to its shareable nature and relatable content, paired with the clever use of hashtags. Overall, it adheres to the tweet format guidelines effectively.']}"
      ]
     },
     "execution_count": 90,
     "metadata": {},
     "output_type": "execute_result"
    }
   ],
   "source": [
    "result"
   ]
  }
 ],
 "metadata": {
  "kernelspec": {
   "display_name": "myenv",
   "language": "python",
   "name": "python3"
  },
  "language_info": {
   "codemirror_mode": {
    "name": "ipython",
    "version": 3
   },
   "file_extension": ".py",
   "mimetype": "text/x-python",
   "name": "python",
   "nbconvert_exporter": "python",
   "pygments_lexer": "ipython3",
   "version": "3.12.1"
  }
 },
 "nbformat": 4,
 "nbformat_minor": 5
}
